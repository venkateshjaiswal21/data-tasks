{
  "nbformat": 4,
  "nbformat_minor": 0,
  "metadata": {
    "colab": {
      "provenance": []
    },
    "kernelspec": {
      "name": "python3",
      "display_name": "Python 3"
    },
    "language_info": {
      "name": "python"
    }
  },
  "cells": [
    {
      "cell_type": "code",
      "execution_count": null,
      "metadata": {
        "id": "DaxrAiftoGTd",
        "colab": {
          "base_uri": "https://localhost:8080/"
        },
        "outputId": "7e77b0e5-849b-4709-c387-006fe1b10744"
      },
      "outputs": [
        {
          "output_type": "stream",
          "name": "stdout",
          "text": [
            "\u001b[?25l   \u001b[90m━━━━━━━━━━━━━━━━━━━━━━━━━━━━━━━━━━━━━━━━\u001b[0m \u001b[32m0.0/131.1 kB\u001b[0m \u001b[31m?\u001b[0m eta \u001b[36m-:--:--\u001b[0m\r\u001b[2K   \u001b[90m━━━━━━━━━━━━━━━━━━━━━━━━━━━━━━━━━━━━━━━━\u001b[0m \u001b[32m131.1/131.1 kB\u001b[0m \u001b[31m3.9 MB/s\u001b[0m eta \u001b[36m0:00:00\u001b[0m\n",
            "\u001b[?25h"
          ]
        }
      ],
      "source": [
        "!pip install openai groq --quiet"
      ]
    },
    {
      "cell_type": "code",
      "source": [
        "import os\n",
        "os.environ[\"GROQ_API_KEY\"] = \"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\""
      ],
      "metadata": {
        "id": "RWR8y0KsoJkg"
      },
      "execution_count": null,
      "outputs": []
    },
    {
      "cell_type": "code",
      "source": [
        "from groq import Groq\n",
        "\n",
        "client = Groq(api_key=os.environ[\"GROQ_API_KEY\"])\n",
        "\n",
        "def summarize_article(prompt):\n",
        "    response = client.chat.completions.create(\n",
        "        model=\"llama3-70b-8192\",\n",
        "        messages=[{\"role\": \"user\", \"content\": prompt}],\n",
        "        temperature=0.7,\n",
        "        max_tokens=300,\n",
        "    )\n",
        "\n",
        "    return response.choices[0].message.content.strip()"
      ],
      "metadata": {
        "id": "JcGUTTAZogTS"
      },
      "execution_count": null,
      "outputs": []
    },
    {
      "cell_type": "code",
      "source": [
        "article_text = \"\"\"\n",
        "\n",
        "Climate change remains one of the most consequential challenges facing humanity in the 21st century. Global carbon dioxide emissions, primarily driven by fossil fuel consumption, have significantly increased atmospheric greenhouse gas concentrations, resulting in rising global temperatures and associated adverse effects. Transitioning to renewable energy sources such as solar, wind, and hydropower offers a critical pathway for mitigating climate change by reducing carbon emissions from the power sector. This study aims to analyze the global impact of renewable energy adoption on carbon emissions over the past two decades, examining key trends, regional disparities, and the effectiveness of policy frameworks.\n",
        "\n",
        "The objective of this research is to quantify the relationship between renewable energy deployment and changes in carbon emissions, identifying whether increased renewable capacity correlates with emission reductions at the national and global levels. Furthermore, the study explores how different energy mix compositions affect emission trajectories and the role of socioeconomic factors in shaping renewable energy adoption.\n",
        "\n",
        "To investigate these aspects, a mixed-methods approach was employed combining quantitative data analysis with qualitative policy reviews. The quantitative component involved assembling a comprehensive dataset encompassing electricity generation sources, carbon emissions, GDP, energy consumption, and population for 150 countries between 2000 and 2020. Data were sourced from the International Energy Agency (IEA), World Bank, and the United Nations. Statistical techniques including fixed effects panel regressions and time series analysis were applied to assess the impact of renewable energy growth on national carbon emissions while controlling for economic and demographic variables.\n",
        "\n",
        "The qualitative analysis reviewed national and regional policies that facilitated or impeded renewable energy growth, including feed-in tariffs, renewable portfolio standards, subsidies, and grid integration measures. This provided contextual insights into the drivers behind the observed quantitative trends.\n",
        "\n",
        "Results indicate that global renewable electricity generation increased nearly fivefold from 551 terawatt-hours in 2000 to over 2,700 terawatt-hours in 2020, accounting for roughly 29% of total power generation by the end of the study period. This growth was accompanied by a stabilization and mild decline in global carbon emissions from electricity generation after 2015, suggesting an inflection point where renewables began displacing fossil fuels at scale.\n",
        "\n",
        "Regionally, significant disparities were evident. Europe and North America displayed the most pronounced emission reductions linked to renewable adoption, with European Union countries reducing power sector emissions by approximately 25% between 2005 and 2020. Rapid wind and solar expansion in Germany, Spain, and Denmark under ambitious policy regimes were primary contributors. Conversely, emerging economies such as India and China showed explosive renewable capacity growth but only modest emission declines due to ongoing coal consumption expansion, although carbon intensity per unit GDP improved.\n",
        "\n",
        "Regression analysis found that a 10% increase in renewable share of electricity generation was associated with an average 4% reduction in national carbon emissions controlling for other factors. The strength of this relationship was moderated by GDP levels, indicating wealthier nations experience greater emission benefits per unit renewable growth, likely due to infrastructure and grid flexibility advantages. The policy review underscored the critical role of consistent incentives and market mechanisms in enabling large-scale renewable investments, as well as the challenges posed by integrating intermittent renewable sources into legacy grids.\n",
        "\n",
        "In conclusion, the adoption of renewable energy has had a measurable and positive impact on global carbon emission trajectories, especially in developed regions with supportive policy environments. However, for renewables to drive deep decarbonization worldwide, accelerating deployment in developing economies and improving grid infrastructure are essential. Future research should address technological innovation in energy storage and grid management to maximize renewable integration and emission reductions. Additionally, aligning renewable policies with broader economic and social goals will enhance their sustainability and effectiveness. This study contributes to understanding the nuanced dynamics between renewable energy growth and emissions, informing policymakers and stakeholders on strategies to combat climate change more effectively.\n",
        "\n",
        "\"\"\"\n"
      ],
      "metadata": {
        "id": "Us04FPjfo1p1"
      },
      "execution_count": null,
      "outputs": []
    },
    {
      "cell_type": "code",
      "source": [
        "prompt_zero_shot = f\"\"\"\n",
        "Summarize the following research article in a single paragraph of no more than 150 words.\n",
        "Include: background, research objective, methodology, results, and key takeaways.\n",
        "\n",
        "Article:\n",
        "\\\"\\\"\\\"\n",
        "{article_text}\n",
        "\\\"\\\"\\\"\n",
        "\"\"\"\n"
      ],
      "metadata": {
        "id": "829chyOAtT26"
      },
      "execution_count": null,
      "outputs": []
    },
    {
      "cell_type": "code",
      "source": [
        "prompt_one_shot = f\"\"\"\n",
        "You are a professional academic summarizer. Here's an example:\n",
        "\n",
        "---\n",
        "Article:\n",
        "\\\"\\\"\\\"\n",
        "Title: The Effect of Sleep on Cognitive Function in College Students\n",
        "\n",
        "Background: College students often suffer from sleep deprivation. This study explores the relationship between sleep duration and academic performance.\n",
        "\n",
        "Objective: To determine if students who sleep more have better memory and learning capacity.\n",
        "\n",
        "Method: A survey of 300 students was conducted, followed by memory tests.\n",
        "\n",
        "Results: Students who slept more than 7 hours scored 20% higher in memory recall.\n",
        "\n",
        "Conclusion: Adequate sleep significantly improves learning in college students.\n",
        "\\\"\\\"\\\"\n",
        "\n",
        "Summary:\n",
        "This research explores the link between sleep duration and cognitive performance among college students. A study involving 300 students used surveys and memory tests to evaluate the impact of sleep. Findings revealed that students who slept over 7 hours performed 20% better on memory recall. The results underscore the importance of adequate sleep in academic success.\n",
        "\n",
        "---\n",
        "\n",
        "Now, summarize the following research article in a similar format:\n",
        "\n",
        "Article:\n",
        "\\\"\\\"\\\"\n",
        "{article_text}\n",
        "\\\"\\\"\\\"\n",
        "\"\"\"\n"
      ],
      "metadata": {
        "id": "MSjmNsOvtdvh"
      },
      "execution_count": null,
      "outputs": []
    },
    {
      "cell_type": "code",
      "source": [
        "prompt_few_shot = f\"\"\"\n",
        "You are a professional summarizer of research articles. Here are two examples:\n",
        "\n",
        "Example 1:\n",
        "---\n",
        "Article:\n",
        "\\\"\\\"\\\"\n",
        "Title: Impact of Exercise on Mental Health\n",
        "\n",
        "Background: Exercise is known to reduce stress and improve mental health...\n",
        "\n",
        "Objective: To evaluate the role of physical activity in reducing depression levels...\n",
        "\n",
        "Method: 200 participants monitored over 6 months...\n",
        "\n",
        "Results: 30% decrease in depression symptoms...\n",
        "\n",
        "Conclusion: Regular exercise significantly benefits mental well-being.\n",
        "\\\"\\\"\\\"\n",
        "\n",
        "Summary:\n",
        "This study examined the relationship between regular physical activity and mental health. Over six months, 200 participants were assessed for depression symptoms. Results showed a 30% reduction in symptoms among those exercising regularly. The research supports exercise as an effective strategy for mental health management.\n",
        "\n",
        "---\n",
        "\n",
        "Example 2:\n",
        "---\n",
        "Article:\n",
        "\\\"\\\"\\\"\n",
        "Title: Online Learning and Student Engagement During COVID-19\n",
        "\n",
        "Background: The shift to online learning raised concerns about engagement...\n",
        "\n",
        "Objective: To assess the impact of virtual classrooms on participation levels...\n",
        "\n",
        "Method: 500 students surveyed and observed...\n",
        "\n",
        "Results: Engagement dropped by 25% in online settings...\n",
        "\n",
        "Conclusion: More interactive tools are needed in digital education platforms.\n",
        "\\\"\\\"\\\"\n",
        "\n",
        "Summary:\n",
        "The study analyzed student engagement during the COVID-19 shift to online learning. Based on survey responses from 500 students, the research found a 25% drop in engagement compared to in-person classes. It concludes that online education needs more interactive elements to maintain student involvement.\n",
        "\n",
        "---\n",
        "\n",
        "Now summarize the following article in the same style:\n",
        "\n",
        "Article:\n",
        "\\\"\\\"\\\"\n",
        "{article_text}\n",
        "\\\"\\\"\\\"\n",
        "\"\"\"\n"
      ],
      "metadata": {
        "id": "p3C59M6wth5M"
      },
      "execution_count": null,
      "outputs": []
    },
    {
      "cell_type": "code",
      "source": [
        "summary = summarize_article(prompt_zero_shot)\n",
        "print(\"Summary by zero shot:\\n\")\n",
        "print(summary)"
      ],
      "metadata": {
        "colab": {
          "base_uri": "https://localhost:8080/"
        },
        "id": "SPtvMxU_qt76",
        "outputId": "8952a2bf-2fee-44f0-c19e-d2d7d27d6e0b"
      },
      "execution_count": null,
      "outputs": [
        {
          "output_type": "stream",
          "name": "stdout",
          "text": [
            "Summary by zero shot:\n",
            "\n",
            "Here is a summary of the research article in a single paragraph of no more than 150 words:\n",
            "\n",
            "This study examines the global impact of renewable energy adoption on carbon emissions over the past two decades. The research objective is to quantify the relationship between renewable energy deployment and carbon emissions, exploring key trends, regional disparities, and policy effectiveness. Using a mixed-methods approach combining quantitative data analysis and qualitative policy reviews, the study finds that global renewable electricity generation increased nearly fivefold between 2000 and 2020, contributing to a stabilization and mild decline in global carbon emissions. Regionally, Europe and North America showed the most pronounced emission reductions linked to renewable adoption, while emerging economies like India and China experienced modest emission declines despite rapid renewable capacity growth. The study concludes that renewable energy adoption has a measurable positive impact on carbon emission trajectories, but accelerating deployment in developing economies and improving grid infrastructure are essential for deep decarbonization.\n"
          ]
        }
      ]
    },
    {
      "cell_type": "code",
      "source": [
        "summary = summarize_article(prompt_one_shot)\n",
        "print(\"Summary by one shot:\\n\")\n",
        "print(summary)"
      ],
      "metadata": {
        "colab": {
          "base_uri": "https://localhost:8080/"
        },
        "id": "uWtcUl6FqzDN",
        "outputId": "d0febf9c-e71e-4ca5-e48d-3bd817801793"
      },
      "execution_count": null,
      "outputs": [
        {
          "output_type": "stream",
          "name": "stdout",
          "text": [
            "Summary by one shot:\n",
            "\n",
            "Here is a summary of the article:\n",
            "\n",
            "This study examines the global impact of renewable energy adoption on carbon emissions over the past two decades. The research aims to quantify the relationship between renewable energy deployment and carbon emission reductions, exploring key trends, regional disparities, and the effectiveness of policy frameworks. A mixed-methods approach was used, combining quantitative data analysis with qualitative policy reviews. The results show that global renewable electricity generation increased nearly fivefold between 2000 and 2020, leading to a stabilization and mild decline in global carbon emissions from electricity generation. The study finds that a 10% increase in renewable share of electricity generation is associated with an average 4% reduction in national carbon emissions. Regional disparities were evident, with Europe and North America showing the most pronounced emission reductions linked to renewable adoption. The study concludes that the adoption of renewable energy has had a measurable and positive impact on global carbon emission trajectories, especially in developed regions with supportive policy environments.\n"
          ]
        }
      ]
    },
    {
      "cell_type": "code",
      "source": [
        "summary = summarize_article(prompt_few_shot)\n",
        "print(\"Summary by few shot:\\n\")\n",
        "print(summary)"
      ],
      "metadata": {
        "colab": {
          "base_uri": "https://localhost:8080/"
        },
        "id": "_IUtxNKJtyji",
        "outputId": "f4442cee-7b6c-46c2-b57c-69ea7d828525"
      },
      "execution_count": null,
      "outputs": [
        {
          "output_type": "stream",
          "name": "stdout",
          "text": [
            "Summary by few shot:\n",
            "\n",
            "Here is a summary of the article:\n",
            "\n",
            "This study examines the global impact of renewable energy adoption on carbon emissions over the past two decades. The research finds that global renewable electricity generation increased nearly fivefold between 2000 and 2020, leading to a stabilization and mild decline in global carbon emissions from electricity generation. The study reveals significant regional disparities, with Europe and North America showing the most pronounced emission reductions linked to renewable adoption. A 10% increase in renewable energy share was associated with a 4% reduction in national carbon emissions, with wealthier nations experiencing greater emission benefits. The study concludes that renewable energy has had a measurable and positive impact on global carbon emissions, but accelerating deployment in developing economies and improving grid infrastructure are essential for deep decarbonization.\n"
          ]
        }
      ]
    },
    {
      "cell_type": "code",
      "source": [
        "prompt_cot = f\"\"\"\n",
        "You are a meticulous climate-policy analyst. Read the article below and\n",
        "think step-by-step about: a) background, b) research objective, c) data\n",
        "and methods, d) key quantitative findings, e) policy implications.\n",
        "After reflecting, write a SINGLE paragraph ≤150 words that weaves those\n",
        "points together clearly. Do NOT reveal your private reasoning steps.\n",
        "\n",
        "ARTICLE:\n",
        "\\\"\\\"\\\"{article_text}\\\"\\\"\\\"\n",
        "\"\"\"\n",
        "summary = summarize_article(prompt_cot)\n",
        "print(summary)\n"
      ],
      "metadata": {
        "id": "USmFwO4KuP2z",
        "colab": {
          "base_uri": "https://localhost:8080/"
        },
        "outputId": "926a5759-8b70-4887-ebe6-2a56255054c6"
      },
      "execution_count": null,
      "outputs": [
        {
          "output_type": "stream",
          "name": "stdout",
          "text": [
            "Here is a paragraph summarizing the article:\n",
            "\n",
            "This study examines the global impact of renewable energy adoption on carbon emissions over the past two decades, finding that the growth of renewable energy has led to a stabilization and decline in global carbon emissions from electricity generation. Specifically, a 10% increase in renewable share of electricity generation is associated with a 4% reduction in national carbon emissions, with wealthier nations experiencing greater emission benefits. The study highlights regional disparities, with Europe and North America displaying significant emission reductions, while emerging economies like India and China show modest emission declines despite rapid renewable capacity growth. The findings underscore the importance of supportive policy environments, infrastructure, and grid flexibility in enabling large-scale renewable investments, and suggest that accelerating deployment in developing economies and improving grid infrastructure are essential for deep decarbonization worldwide.\n"
          ]
        }
      ]
    },
    {
      "cell_type": "code",
      "source": [
        "prompt_tot = f\"\"\"\n",
        "TASK: Produce a high-accuracy 120-word summary of the article.\n",
        "STRATEGY (Tree-of-Thoughts):\n",
        "Step-1 – Generate three distinct 40-word candidate summaries.\n",
        "Step-2 – For each, self-grade coherence (0-5) and factual precision (0-5).\n",
        "Step-3 – Expand the highest-scoring candidate to 120 words.\n",
        "OUTPUT must show the final 120-word summary and the three distinct 40 word candidate summaries.\n",
        "\n",
        "ARTICLE:\n",
        "\\\"\\\"\\\"{article_text}\\\"\\\"\\\"\n",
        "\"\"\"\n",
        "summary = summarize_article(prompt_tot)\n",
        "print(summary)\n"
      ],
      "metadata": {
        "colab": {
          "base_uri": "https://localhost:8080/"
        },
        "id": "5pW45C_NlwGw",
        "outputId": "29e71004-cf91-431f-bade-ef190c679a9d"
      },
      "execution_count": null,
      "outputs": [
        {
          "output_type": "stream",
          "name": "stdout",
          "text": [
            "Here are the three 40-word candidate summaries, along with their coherence and factual precision scores:\n",
            "\n",
            "**Candidate 1**\n",
            "Climate change is a pressing issue, and renewable energy can help mitigate it. This study analyzes the global impact of renewable energy adoption on carbon emissions over the past two decades, examining trends, regional disparities, and policy effectiveness. (Coherence: 4, Factual Precision: 4)\n",
            "\n",
            "**Candidate 2**\n",
            "Renewable energy adoption has increased globally, leading to a stabilization and mild decline in carbon emissions from electricity generation. The study finds that a 10% increase in renewable energy share is associated with a 4% reduction in national carbon emissions. (Coherence: 4, Factual Precision: 5)\n",
            "\n",
            "**Candidate 3**\n",
            "The study examines the relationship between renewable energy deployment and carbon emissions, finding that increased renewable capacity correlates with emission reductions. Regional disparities exist, with Europe and North America showing the most significant emission reductions. (Coherence: 4, Factual Precision: 4)\n",
            "\n",
            "The highest-scoring candidate is Candidate 2, which I will expand to 120 words:\n",
            "\n",
            "**Final 120-word Summary**\n",
            "Renewable energy adoption has increased globally, leading to a stabilization and mild decline in carbon emissions from electricity generation. The study finds that a 10% increase in renewable energy share is associated with a 4% reduction in national carbon emissions. Regionally, significant disparities exist, with Europe and North America showing the most significant emission\n"
          ]
        }
      ]
    },
    {
      "cell_type": "code",
      "source": [
        "prompt_role = f\"\"\"\n",
        "ROLE: You are Pulitzer-winning science journalist for The Economist.\n",
        "VOICE: Concise, analytic, neutral.\n",
        "ASSIGNMENT: Craft an “In Brief” column (≤130 words) summarizing the study.\n",
        "Must cover context, methods, numbers, disparities, and takeaway.\n",
        "\n",
        "ARTICLE:\n",
        "\\\"\\\"\\\"{article_text}\\\"\\\"\\\"\n",
        "\"\"\"\n",
        "summary = summarize_article(prompt_role)\n",
        "print(summary)\n"
      ],
      "metadata": {
        "colab": {
          "base_uri": "https://localhost:8080/"
        },
        "id": "yqeNOTc-l9F9",
        "outputId": "46cbc8e0-9015-4923-c577-b279ee61bfb4"
      },
      "execution_count": null,
      "outputs": [
        {
          "output_type": "stream",
          "name": "stdout",
          "text": [
            "Here is a 130-word \"In Brief\" column summarizing the study:\n",
            "\n",
            "**Renewable Energy's Impact on Carbon Emissions**\n",
            "\n",
            "A new study analyzes the global impact of renewable energy adoption on carbon emissions over the past two decades. The research finds that global renewable electricity generation increased nearly fivefold between 2000 and 2020, leading to a stabilization and mild decline in global carbon emissions from electricity generation after 2015. Regionally, Europe and North America showed significant emission reductions, while emerging economies like India and China experienced modest declines due to ongoing coal consumption expansion. The study reveals that a 10% increase in renewable share of electricity generation is associated with a 4% reduction in national carbon emissions. The findings highlight the importance of supportive policy environments, grid infrastructure, and technological innovation in energy storage and management to maximize renewable integration and emission reductions.\n"
          ]
        }
      ]
    },
    {
      "cell_type": "code",
      "source": [
        "prompt_react = f\"\"\"\n",
        "You may think, then act. Tools: NONE (article already provided).\n",
        "Use the loop: THOUGHT -> ACTION -> OBSERVATION until confident (max 3 loops).\n",
        "Finish with “FINAL ANSWER: <one-paragraph summary ≤140 words>”.\n",
        "\n",
        "THOUGHT: Need background and key stats.\n",
        "ACTION: Read article.\n",
        "OBSERVATION: Done.\n",
        "\n",
        "THOUGHT: Compute main growth figure and emission link.\n",
        "ACTION: Calculate mentally.\n",
        "OBSERVATION: Renewable electricity grew 5×; 10 % share ↔ 4 % CO₂ drop.\n",
        "\n",
        "THOUGHT: Ready to summarize.\n",
        "FINAL ANSWER:\n",
        "\"\"\"\n",
        "summary = summarize_article(prompt_react)\n",
        "print(summary)\n"
      ],
      "metadata": {
        "colab": {
          "base_uri": "https://localhost:8080/"
        },
        "id": "QZPlabuLmGdf",
        "outputId": "bccfe850-34d3-4848-8e30-d26009a3c608"
      },
      "execution_count": null,
      "outputs": [
        {
          "output_type": "stream",
          "name": "stdout",
          "text": [
            "FINAL ANSWER: The article highlights the rapid growth of renewable electricity, which has increased fivefold and now accounts for 10% of the global energy mix. This significant shift has led to a 4% reduction in CO₂ emissions, demonstrating the crucial role of renewable energy in mitigating climate change. The data underscores the importance of continued investment in renewable energy sources to achieve a sustainable future.\n"
          ]
        }
      ]
    },
    {
      "cell_type": "code",
      "source": [
        "# One-shot imitation of DSP: supply keyword stimulus manually.\n",
        "stimulus = \"renewable-growth, 4%-emission-drop, EU-25%-cut, policy-incentives\"\n",
        "prompt_dsp = f\"\"\"\n",
        "Use the stimulus keywords [{stimulus}] to guide a 110-word summary.\n",
        "Cover background, objective, data, major numbers, and policy lesson.\n",
        "Keep stimulus words verbatim at least once.\n",
        "\n",
        "ARTICLE:\n",
        "\\\"\\\"\\\"{article_text}\\\"\\\"\\\"\n",
        "\"\"\"\n",
        "summary = summarize_article(prompt_dsp)\n",
        "print(summary)\n"
      ],
      "metadata": {
        "colab": {
          "base_uri": "https://localhost:8080/"
        },
        "id": "-F6QumelmNbr",
        "outputId": "43a58993-92a4-4d89-cbc3-605742503679"
      },
      "execution_count": null,
      "outputs": [
        {
          "output_type": "stream",
          "name": "stdout",
          "text": [
            "Here is a 110-word summary guided by the stimulus keywords:\n",
            "\n",
            "The study analyzes the global impact of renewable energy adoption on carbon emissions over the past two decades. The objective is to quantify the relationship between renewable energy deployment and emission reductions. Data analysis reveals that global renewable electricity generation increased nearly fivefold, leading to a 4%-emission-drop. The European Union achieved a 25%-cut in power sector emissions between 2005 and 2020, driven by policy-incentives such as feed-in tariffs and renewable portfolio standards. The study finds that a 10% increase in renewable share of electricity generation is associated with an average 4% reduction in national carbon emissions. The policy lesson is that consistent policy-incentives and market mechanisms are crucial for large-scale renewable investments, driving renewable-growth and emission reductions.\n"
          ]
        }
      ]
    },
    {
      "cell_type": "code",
      "source": [
        "prompt_stepback = f\"\"\"\n",
        "PHASE-1 (ABSTRACTION):\n",
        "Q1: “What broad principles explain how renewables affect CO₂ emissions?”\n",
        "A1: “Cleaner energy displaces fossil generation; effect size depends on\n",
        "share, grid flexibility, and economic structure.”\n",
        "\n",
        "PHASE-2 (REASONING):\n",
        "Using that principle, craft a concise 125-word answer to:\n",
        "“How did renewable adoption shape global power-sector emissions in\n",
        "2000-2020, according to the article?”\n",
        "\n",
        "ARTICLE:\n",
        "\\\"\\\"\\\"{article_text}\\\"\\\"\\\"\n",
        "\"\"\"\n",
        "summary = summarize_article(prompt_stepback)\n",
        "print(summary)\n"
      ],
      "metadata": {
        "colab": {
          "base_uri": "https://localhost:8080/"
        },
        "id": "O-BjNaxKmXjA",
        "outputId": "26320a56-a152-4c74-e303-668c8598c1d3"
      },
      "execution_count": null,
      "outputs": [
        {
          "output_type": "stream",
          "name": "stdout",
          "text": [
            "Here is a concise 125-word answer to the question:\n",
            "\n",
            "\"How did renewable adoption shape global power-sector emissions in 2000-2020, according to the article?\"\n",
            "\n",
            "Between 2000 and 2020, global renewable electricity generation increased nearly fivefold, accounting for 29% of total power generation by the end of the period. This growth led to a stabilization and mild decline in global carbon emissions from electricity generation after 2015, suggesting an inflection point where renewables began displacing fossil fuels at scale. Regionally, Europe and North America showed the most pronounced emission reductions, with European Union countries reducing power sector emissions by approximately 25%. The study found that a 10% increase in renewable share of electricity generation was associated with an average 4% reduction in national carbon emissions, with wealthier nations experiencing greater emission benefits per unit renewable growth.\n"
          ]
        }
      ]
    },
    {
      "cell_type": "code",
      "source": [],
      "metadata": {
        "id": "AZb9zI2tmdQC"
      },
      "execution_count": null,
      "outputs": []
    }
  ]
}